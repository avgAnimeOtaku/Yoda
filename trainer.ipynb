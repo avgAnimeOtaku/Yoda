{
 "cells": [
  {
   "cell_type": "code",
   "execution_count": 14,
   "id": "889caf46",
   "metadata": {},
   "outputs": [
    {
     "ename": "IndexError",
     "evalue": "index 169 is out of bounds for axis 0 with size 124",
     "output_type": "error",
     "traceback": [
      "\u001b[1;31m---------------------------------------------------------------------------\u001b[0m",
      "\u001b[1;31mIndexError\u001b[0m                                Traceback (most recent call last)",
      "\u001b[1;32m~\\AppData\\Local\\Temp/ipykernel_8416/2176921522.py\u001b[0m in \u001b[0;36m<module>\u001b[1;34m\u001b[0m\n\u001b[0;32m     46\u001b[0m \u001b[1;32mfor\u001b[0m \u001b[0mi\u001b[0m \u001b[1;32min\u001b[0m \u001b[0mcnt\u001b[0m\u001b[1;33m:\u001b[0m\u001b[1;33m\u001b[0m\u001b[1;33m\u001b[0m\u001b[0m\n\u001b[0;32m     47\u001b[0m         \u001b[0mX_new\u001b[0m\u001b[1;33m[\u001b[0m\u001b[0mcounter\u001b[0m\u001b[1;33m]\u001b[0m \u001b[1;33m=\u001b[0m \u001b[0mX\u001b[0m\u001b[1;33m[\u001b[0m\u001b[0mi\u001b[0m\u001b[1;33m]\u001b[0m\u001b[1;33m\u001b[0m\u001b[1;33m\u001b[0m\u001b[0m\n\u001b[1;32m---> 48\u001b[1;33m         \u001b[0my_new\u001b[0m\u001b[1;33m[\u001b[0m\u001b[0mcounter\u001b[0m\u001b[1;33m]\u001b[0m \u001b[1;33m=\u001b[0m \u001b[0my\u001b[0m\u001b[1;33m[\u001b[0m\u001b[0mi\u001b[0m\u001b[1;33m]\u001b[0m\u001b[1;33m\u001b[0m\u001b[1;33m\u001b[0m\u001b[0m\n\u001b[0m\u001b[0;32m     49\u001b[0m         \u001b[0mcounter\u001b[0m \u001b[1;33m=\u001b[0m \u001b[0mcounter\u001b[0m \u001b[1;33m+\u001b[0m \u001b[1;36m1\u001b[0m\u001b[1;33m\u001b[0m\u001b[1;33m\u001b[0m\u001b[0m\n\u001b[0;32m     50\u001b[0m \u001b[1;33m\u001b[0m\u001b[0m\n",
      "\u001b[1;31mIndexError\u001b[0m: index 169 is out of bounds for axis 0 with size 124"
     ]
    }
   ],
   "source": [
    "import os  \n",
    "import numpy as np \n",
    "import cv2 \n",
    "from tensorflow.keras.utils import to_categorical\n",
    "\n",
    "from keras.layers import Input, Dense \n",
    "from keras.models import Model\n",
    " \n",
    "is_init = False\n",
    "size = -1\n",
    "\n",
    "label = []\n",
    "dictionary = {}\n",
    "c = 0\n",
    "\n",
    "for i in os.listdir():\n",
    "\tif i.split(\".\")[-1] == \"npy\" and not(i.split(\".\")[0] == \"labels\"):  \n",
    "\t\tif not(is_init):\n",
    "\t\t\tis_init = True \n",
    "\t\t\tX = np.load(i)\n",
    "\t\t\tsize = X.shape[0]\n",
    "\t\t\ty = np.array([i.split('.')[0]]*size).reshape(-1,1)\n",
    "\t\telse:\n",
    "\t\t\tX = np.concatenate((X, np.load(i)))\n",
    "\t\t\ty = np.concatenate((y, np.array([i.split('.')[0]]*size).reshape(-1,1)))\n",
    "\n",
    "\t\tlabel.append(i.split('.')[0])\n",
    "\t\tdictionary[i.split('.')[0]] = c  \n",
    "\t\tc = c+1\n",
    "\n",
    "\n",
    "for i in range(y.shape[0]):\n",
    "\ty[i, 0] = dictionary[y[i, 0]]\n",
    "y = np.array(y, dtype=\"int32\")\n",
    "\n",
    "\n",
    "y = to_categorical(y)\n",
    "\n",
    "X_new = X.copy()\n",
    "y_new = y.copy()\n",
    "counter = 0 \n",
    "\n",
    "cnt = np.arange(X.shape[0])\n",
    "np.random.shuffle(cnt)\n",
    "\n",
    "for i in cnt: \n",
    "\tX_new[counter] = X[i]\n",
    "\ty_new[counter] = y[i]\n",
    "\tcounter = counter + 1\n",
    "\n",
    "\n",
    "ip = Input(shape=(X.shape[1]))\n",
    "\n",
    "m = Dense(128, activation=\"tanh\")(ip)\n",
    "m = Dense(64, activation=\"tanh\")(m)\n",
    "\n",
    "op = Dense(y.shape[1], activation=\"softmax\")(m) \n",
    "\n",
    "model = Model(inputs=ip, outputs=op)\n",
    "\n",
    "model.compile(optimizer='rmsprop', loss=\"categorical_crossentropy\", metrics=['acc'])\n",
    "\n",
    "model.fit(X_new, y_new, epochs=350)\n",
    "\n",
    "\n",
    "model.save(\"model.h5\")\n",
    "np.save(\"labels.npy\", np.array(label))"
   ]
  },
  {
   "cell_type": "code",
   "execution_count": null,
   "id": "9cdae79f",
   "metadata": {},
   "outputs": [],
   "source": []
  }
 ],
 "metadata": {
  "kernelspec": {
   "display_name": "Python 3 (ipykernel)",
   "language": "python",
   "name": "python3"
  },
  "language_info": {
   "codemirror_mode": {
    "name": "ipython",
    "version": 3
   },
   "file_extension": ".py",
   "mimetype": "text/x-python",
   "name": "python",
   "nbconvert_exporter": "python",
   "pygments_lexer": "ipython3",
   "version": "3.9.7"
  }
 },
 "nbformat": 4,
 "nbformat_minor": 5
}
